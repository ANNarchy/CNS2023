{
 "cells": [
  {
   "cell_type": "markdown",
   "metadata": {},
   "source": [
    "# Adaptive Exponential IF neuron\n",
    "\n",
    "Download the Jupyter notebook: [AdEx.ipynb](https://raw.githubusercontent.com/ANNarchy/CNS2023/master/src/notebooks/AdEx.ipynb){target=\"_blank\"} or run it directly on [colab.](https://colab.research.google.com/github/ANNarchy/CNS2023/blob/master/src/notebooks/AdEx.ipynb){target=\"_blank\"}\n",
    "\n",
    "This notebook explores how the AdEx neuron model can reproduce various spiking patterns observed in vivo.\n",
    "\n",
    "Code based on @Naud2008:\n",
    "\n",
    "> Naud, R., Marcille, N., Clopath, C., and Gerstner, W. (2008). Firing patterns in the adaptive exponential integrate-and-fire model. Biol Cybern 99, 335. [doi:10.1007/s00422-008-0264-7](https://link.springer.com/article/10.1007/s00422-008-0264-7).\n",
    "\n",
    "Uncomment on colab:"
   ]
  },
  {
   "cell_type": "code",
   "execution_count": 1,
   "metadata": {},
   "outputs": [],
   "source": [
    "#!pip install ANNarchy"
   ]
  },
  {
   "cell_type": "code",
   "execution_count": 2,
   "metadata": {},
   "outputs": [
    {
     "name": "stdout",
     "output_type": "stream",
     "text": [
      "ANNarchy 4.7 (4.7.2.5) on darwin (posix).\n"
     ]
    }
   ],
   "source": [
    "import numpy as np\n",
    "import matplotlib.pyplot as plt\n",
    "\n",
    "from ANNarchy import *\n",
    "\n",
    "clear()\n",
    "setup(dt=0.1)"
   ]
  },
  {
   "cell_type": "markdown",
   "metadata": {},
   "source": [
    "The AdEx neuron is defined by the following equations:\n",
    "\n",
    "$$\n",
    "    C \\, \\frac{dv}{dt} = -g_L \\ (v - E_L) + g_L \\, \\Delta_T \\, \\exp(\\frac{v - v_T}{\\Delta_T}) + I - w\n",
    "$$\n",
    "\n",
    "$$\n",
    "    \\tau_w \\, \\frac{dw}{dt} = a \\, (v - E_L) - w\n",
    "$$\n",
    "\n",
    "if $v > v_\\text{spike}$:\n",
    "\n",
    "* $v = v_R$\n",
    "* $w = w + b$"
   ]
  },
  {
   "cell_type": "code",
   "execution_count": 3,
   "metadata": {},
   "outputs": [],
   "source": [
    "AdEx = Neuron(\n",
    "    parameters=\"\"\"\n",
    "        C = 200.\n",
    "        gL = 10. # not g_L! g_ is reserved for spike transmission\n",
    "        E_L = -70.\n",
    "        v_T = -50.\n",
    "        delta_T = 2.0\n",
    "        a = 2.0\n",
    "        tau_w = 30.\n",
    "        b = 0.\n",
    "        v_r = -58.\n",
    "        I = 500.\n",
    "        v_spike = 0.0 \n",
    "    \"\"\",\n",
    "    equations=\"\"\"\n",
    "        C * dv/dt = - gL * (v - E_L) +  gL * delta_T * exp((v-v_T)/delta_T) + I - w : init=-70.0     \n",
    "        \n",
    "        tau_w * dw/dt = a * (v - E_L) - w  : init=0.0\n",
    "    \"\"\",\n",
    "    spike=\"\"\"\n",
    "        v >= v_spike\n",
    "    \"\"\",\n",
    "    reset=\"\"\"\n",
    "        v = v_r\n",
    "        w += b\n",
    "    \"\"\",\n",
    "    refractory = 2.0\n",
    ")"
   ]
  },
  {
   "cell_type": "markdown",
   "metadata": {},
   "source": [
    "We create a population of 1 AdEx neurons which will get different parameter values."
   ]
  },
  {
   "cell_type": "code",
   "execution_count": 4,
   "metadata": {},
   "outputs": [],
   "source": [
    "pop = Population(1, AdEx)"
   ]
  },
  {
   "cell_type": "code",
   "execution_count": 5,
   "metadata": {},
   "outputs": [],
   "source": [
    "compile()"
   ]
  },
  {
   "cell_type": "markdown",
   "metadata": {},
   "source": [
    "We add a monitor to track the membrane potential and the spike timings during the simulation."
   ]
  },
  {
   "cell_type": "code",
   "execution_count": 6,
   "metadata": {},
   "outputs": [],
   "source": [
    "m = Monitor(pop, ['v', 'spike'])"
   ]
  },
  {
   "cell_type": "markdown",
   "metadata": {},
   "source": [
    "Following (Naud et al, 2008), we provide different parameter values corresponding to eight different firing patterns:\n",
    "\n",
    "1. tonic spiking \n",
    "2. adaptation, \n",
    "3. initial burst, \n",
    "4. regular bursting, \n",
    "5. delayed accelerating, \n",
    "6. delayed regular bursting, \n",
    "7. transcient spiking, \n",
    "8. irregular spiking."
   ]
  },
  {
   "cell_type": "code",
   "execution_count": 7,
   "metadata": {},
   "outputs": [],
   "source": [
    "# a) tonic spiking b) adaptation, c) initial burst, d) regular bursting, e) delayed accelerating, f) delayed regular bursting, g) transcient spiking, h) irregular spiking\n",
    "C =       [200, 200, 130, 200, 200, 200, 100, 100]\n",
    "gL =      [ 10,  12,  18,  10,  12,  12,  10,  12]\n",
    "E_L =     [-70, -70, -58, -58, -70, -70, -65, -60]\n",
    "v_T =     [-50, -50, -50, -50, -50, -50, -50, -50]\n",
    "delta_T = [  2,   2,   2,   2,   2,   2,   2,   2]\n",
    "a =       [  2,   2,   4,   2,-10., -6.,-10.,-11.]\n",
    "tau_w =   [ 30, 300, 150, 120, 300, 300,  90, 130]\n",
    "b =       [  0,  60, 120, 100,   0,   0,  30,  30]\n",
    "v_r =     [-58, -58, -50, -46, -58, -58, -47, -48]\n",
    "I =       [500, 500, 400, 210, 300, 110, 350, 160]"
   ]
  },
  {
   "cell_type": "markdown",
   "metadata": {},
   "source": [
    "In the `trial()` method, we simulate the network for 500 ms with a fixed input current, and remove that current for an additional 50 ms."
   ]
  },
  {
   "cell_type": "code",
   "execution_count": 8,
   "metadata": {},
   "outputs": [],
   "source": [
    "def trial(C, gL, E_L, v_T, delta_T, a, tau_w, b, v_r, I):\n",
    "\n",
    "    # Reset neuron\n",
    "    reset()\n",
    "\n",
    "    # Set parameters\n",
    "    pop.C = C; pop.gL = gL; pop.E_L = E_L; pop.v_T = v_T; pop.delta_T = delta_T\n",
    "    pop.a = a; pop.tau_w = tau_w; pop.b = b; pop.v_r = v_r; pop.I = I \n",
    "\n",
    "    # Simulate\n",
    "    simulate(500.)\n",
    "    pop.I = 0.0\n",
    "    simulate(50.)\n",
    "\n",
    "    # Recordings\n",
    "    data = m.get('v')\n",
    "    spikes = m.get('spike')\n",
    "    for n, t in spikes.items(): # Normalize the spikes\n",
    "        data[[x  for x in t], n] = 0.0\n",
    "\n",
    "    return data"
   ]
  },
  {
   "cell_type": "markdown",
   "metadata": {},
   "source": [
    "We can now visualize the membrane potential for the different neuron types:"
   ]
  },
  {
   "cell_type": "code",
   "execution_count": 12,
   "metadata": {},
   "outputs": [
    {
     "data": {
      "image/png": "[encoded data removed]",
      "text/plain": [
       "<Figure size 640x480 with 1 Axes>"
      ]
     },
     "metadata": {},
     "output_type": "display_data"
    }
   ],
   "source": [
    "idx = 0\n",
    "data = trial(C[idx], gL[idx], E_L[idx], v_T[idx], delta_T[idx], a[idx], tau_w[idx], b[idx], v_r[idx], I[idx])\n",
    "\n",
    "plt.figure()\n",
    "plt.plot(data[:, 0])\n",
    "plt.ylim((-70., 5.))\n",
    "plt.show()"
   ]
  },
  {
   "cell_type": "markdown",
   "metadata": {},
   "source": [
    "**Experiments**\n",
    "\n",
    "1. Visualize the firing patterns for the 8 neuron types and compare them to the figure in Naud et al. (2008).\n",
    "2. For the tonic firing neuron, vary the refractory period to observe its influence on the firing pattern. \n",
    "3. What is the minimum value of `I` allowing the tonic firing neuron to spike?"
   ]
  },
  {
   "cell_type": "markdown",
   "metadata": {},
   "source": []
  }
 ],
 "metadata": {
  "kernelspec": {
   "display_name": "Python 3.9.13 ('base')",
   "language": "python",
   "name": "python3"
  },
  "language_info": {
   "codemirror_mode": {
    "name": "ipython",
    "version": 3
   },
   "file_extension": ".py",
   "mimetype": "text/x-python",
   "name": "python",
   "nbconvert_exporter": "python",
   "pygments_lexer": "ipython3",
   "version": "3.9.16"
  },
  "vscode": {
   "interpreter": {
    "hash": "3d24234067c217f49dc985cbc60012ce72928059d528f330ba9cb23ce737906d"
   }
  }
 },
 "nbformat": 4,
 "nbformat_minor": 2
}
